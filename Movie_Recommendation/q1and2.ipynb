{
 "cells": [
  {
   "cell_type": "code",
   "execution_count": 147,
   "metadata": {},
   "outputs": [],
   "source": [
    "import csv as c\n",
    "import matplotlib.pyplot as plt \n",
    "import numpy as np\n",
    "from collections import OrderedDict as OD\n",
    "maxi=0\n",
    "lis=[]\n"
   ]
  },
  {
   "cell_type": "code",
   "execution_count": 148,
   "metadata": {},
   "outputs": [
    {
     "name": "stdout",
     "output_type": "stream",
     "text": [
      "193609\n"
     ]
    }
   ],
   "source": [
    "\n",
    "rows, cols = (611, 9725) \n",
    "arr = [[0]*cols]*rows \n",
    "A=OD()\n",
    "B=OD()\n",
    "r=OD()\n",
    "rows=611\n",
    "cols=0\n",
    "movie_matching_id=dict({})\n",
    "num=0\n",
    "matching_id_movie=dict({})\n",
    "with open('./ratings.csv') as csv_file:\n",
    "    csv_reader = c.reader(csv_file, delimiter=',')\n",
    "    flag=0\n",
    "    for row in csv_reader:\n",
    "       # print(\"foo\")\n",
    "        if flag==1:\n",
    "            x=int(row[1])\n",
    "            if((x in movie_matching_id.keys())):\n",
    "                u=1\n",
    "            else:\n",
    "                y=int(row[1])\n",
    "                matching_id_movie[cols]=y\n",
    "                movie_matching_id[y]=cols\n",
    "                cols+=1\n",
    "        flag=1\n",
    "cols+=1\n",
    "with open('./ratings.csv') as csv_file:\n",
    "    csv_reader = c.reader(csv_file, delimiter=',')\n",
    "    flag=0\n",
    "    for row in csv_reader:\n",
    "        if(flag==1):\n",
    "            y=int(row[0])\n",
    "            x=int(row[1])\n",
    "            z=float(row[2])\n",
    "            r[x]=r.get(x,0)+z\n",
    "            A[x]=A.get(x,0)+1\n",
    "            if maxi<int(row[1]):\n",
    "                maxi=int(row[1])\n",
    "            lis.append(x)\n",
    "            B[y]=B.get(y,0)+1\n",
    "        flag=1\n",
    "flag=0\n",
    "\n",
    "\n",
    "\n",
    "\n",
    "\n",
    "to_be_trained=[[0 for i in range(cols)] for j in range(rows)]\n",
    "with open('./ratings.csv') as csv_file:\n",
    "    csv_reader = c.reader(csv_file, delimiter=',')\n",
    "    for row in csv_reader:\n",
    "       # print(row)\n",
    "       # print(\"hereeee\")\n",
    "        if(flag!=0):\n",
    "           # print(\"meghana\")\n",
    "            #if(flag%5>0):\n",
    "             #   print(\"santosh\")\n",
    "            y=int(row[0])\n",
    "            z=int(row[1])\n",
    "            k1=float(row[2])\n",
    "            to_be_trained[y][movie_matching_id[z]]=k1\n",
    "                \n",
    "#             else:\n",
    "#               #  print(\"santoo\")\n",
    "#                 y=int(row[0])\n",
    "#                 z=int(row[1])\n",
    "#                 k1=float(row[2])\n",
    "#                 to_be_tested[y][movie_matching_id[z]]=k1\n",
    "                \n",
    "        flag+=1\n",
    "print(maxi)"
   ]
  },
  {
   "cell_type": "code",
   "execution_count": 149,
   "metadata": {},
   "outputs": [],
   "source": [
    "l31=[]\n",
    "i24=0\n",
    "j24=0\n",
    "while(i24<rows):\n",
    "    j24=0\n",
    "    while(j24<cols):\n",
    "        if(to_be_trained[i24][j24]!=0):\n",
    "            l31.append(j24)\n",
    "        j24+=1\n",
    "    i24+=1"
   ]
  },
  {
   "cell_type": "code",
   "execution_count": 150,
   "metadata": {},
   "outputs": [
    {
     "name": "stdout",
     "output_type": "stream",
     "text": [
      "[   0    1    2 ... 9721 9722 9723]\n",
      "(100836,)\n"
     ]
    },
    {
     "data": {
      "image/png": "[encoded data removed]",
      "text/plain": [
       "<Figure size 432x288 with 1 Axes>"
      ]
     },
     "metadata": {
      "needs_background": "light"
     },
     "output_type": "display_data"
    }
   ],
   "source": [
    "#import numpy as np\n",
    "array1 = np.array(l31)\n",
    "print(array1)\n",
    "plt.hist(array1,color='b')\n",
    "print(array1.shape)\n",
    "plt.show()"
   ]
  },
  {
   "cell_type": "code",
   "execution_count": 151,
   "metadata": {},
   "outputs": [],
   "source": [
    "#cdf\n",
    "cum=OD()\n",
    "j8=0\n",
    "i8=0\n",
    "while(j8<cols):\n",
    "    i8=0\n",
    "    while(i8<rows):\n",
    "        if (to_be_trained[i8][j8]!=0):\n",
    "                cum[j8]=cum.get(j8,0)+1\n",
    "        i8+=1\n",
    "    j8+=1"
   ]
  },
  {
   "cell_type": "code",
   "execution_count": 153,
   "metadata": {},
   "outputs": [
    {
     "name": "stdout",
     "output_type": "stream",
     "text": [
      "hello\n"
     ]
    }
   ],
   "source": [
    "print(\"hello\")"
   ]
  },
  {
   "cell_type": "code",
   "execution_count": null,
   "metadata": {},
   "outputs": [],
   "source": []
  },
  {
   "cell_type": "code",
   "execution_count": 154,
   "metadata": {},
   "outputs": [
    {
     "data": {
      "text/plain": [
       "<BarContainer object of 9724 artists>"
      ]
     },
     "execution_count": 154,
     "metadata": {},
     "output_type": "execute_result"
    },
    {
     "data": {
      "image/png": "[encoded data removed]",
      "text/plain": [
       "<Figure size 432x288 with 1 Axes>"
      ]
     },
     "metadata": {
      "needs_background": "light"
     },
     "output_type": "display_data"
    }
   ],
   "source": [
    "cnt=0\n",
    "for x1,y1 in cum.items():\n",
    "    x3=x1\n",
    "    y3=y1\n",
    "    for x2,y2 in cum.items():\n",
    "        x4=x2\n",
    "        y4=y2\n",
    "        cnt=cnt+1\n",
    "        if x3<x4:\n",
    "            cum[x4]=(cum[x4]+cum[x3])%100000000\n",
    "plt.bar(cum.keys(), cum.values(), 1.0, color='b')\n"
   ]
  },
  {
   "cell_type": "code",
   "execution_count": 155,
   "metadata": {},
   "outputs": [
    {
     "data": {
      "text/plain": [
       "<BarContainer object of 610 artists>"
      ]
     },
     "execution_count": 155,
     "metadata": {},
     "output_type": "execute_result"
    },
    {
     "data": {
      "image/png": "[encoded data removed]",
      "text/plain": [
       "<Figure size 432x288 with 1 Axes>"
      ]
     },
     "metadata": {
      "needs_background": "light"
     },
     "output_type": "display_data"
    }
   ],
   "source": [
    "plt.bar(B.values(),B.keys(), 1.0, color='b')"
   ]
  },
  {
   "cell_type": "code",
   "execution_count": 156,
   "metadata": {},
   "outputs": [
    {
     "data": {
      "text/plain": [
       "<BarContainer object of 610 artists>"
      ]
     },
     "execution_count": 156,
     "metadata": {},
     "output_type": "execute_result"
    },
    {
     "data": {
      "image/png": "[encoded data removed]",
      "text/plain": [
       "<Figure size 432x288 with 1 Axes>"
      ]
     },
     "metadata": {
      "needs_background": "light"
     },
     "output_type": "display_data"
    }
   ],
   "source": [
    "cnt=0\n",
    "for x1,y1 in B.items():\n",
    "    x3=x1\n",
    "    y3=y1\n",
    "    for x2,y2 in B.items():\n",
    "        x4=x2\n",
    "        cnt=cnt+1\n",
    "        y4=y2 \n",
    "        if x3<x4:\n",
    "            B[x4]=B[x4]+B[x3]\n",
    "plt.bar(B.keys(), B.values(), 10, color='b')\n"
   ]
  },
  {
   "cell_type": "code",
   "execution_count": 157,
   "metadata": {},
   "outputs": [
    {
     "data": {
      "text/plain": [
       "<BarContainer object of 9724 artists>"
      ]
     },
     "execution_count": 157,
     "metadata": {},
     "output_type": "execute_result"
    },
    {
     "data": {
      "image/png": "[encoded data removed]",
      "text/plain": [
       "<Figure size 432x288 with 1 Axes>"
      ]
     },
     "metadata": {
      "needs_background": "light"
     },
     "output_type": "display_data"
    }
   ],
   "source": [
    "#top movies;\n",
    "avg_rating =OrderedDict({})\n",
    "for x, y in r.items():\n",
    "    avg_rating[x]=y/A.get(x)\n",
    "plt.bar(avg_rating.keys(), avg_rating.values(), 1.0, color='b')#graph of avg ratings"
   ]
  },
  {
   "cell_type": "code",
   "execution_count": 140,
   "metadata": {},
   "outputs": [
    {
     "name": "stdout",
     "output_type": "stream",
     "text": [
      "(131724, 5.0)\n",
      "(5746, 5.0)\n",
      "(6835, 5.0)\n",
      "(3851, 5.0)\n",
      "(1151, 5.0)\n",
      "(1631, 5.0)\n",
      "(2075, 5.0)\n",
      "(176601, 5.0)\n",
      "(92494, 5.0)\n",
      "(102217, 5.0)\n",
      "(27523, 5.0)\n",
      "(67618, 5.0)\n",
      "(8804, 5.0)\n",
      "(26350, 5.0)\n",
      "(31522, 5.0)\n",
      "(53, 5.0)\n",
      "(1140, 5.0)\n",
      "(6402, 5.0)\n",
      "(8238, 5.0)\n",
      "(25887, 5.0)\n",
      "(34312, 5.0)\n",
      "(44851, 5.0)\n",
      "(47736, 5.0)\n",
      "(50999, 5.0)\n",
      "(53280, 5.0)\n",
      "(53355, 5.0)\n",
      "(53578, 5.0)\n",
      "(60737, 5.0)\n",
      "(69211, 5.0)\n",
      "(69469, 5.0)\n",
      "(72692, 5.0)\n",
      "(73822, 5.0)\n",
      "(79897, 5.0)\n",
      "(83969, 5.0)\n",
      "(84512, 5.0)\n",
      "(85295, 5.0)\n",
      "(87834, 5.0)\n",
      "(91355, 5.0)\n",
      "(91386, 5.0)\n",
      "(93022, 5.0)\n",
      "(95843, 5.0)\n",
      "(96608, 5.0)\n",
      "(96935, 5.0)\n",
      "(103602, 5.0)\n",
      "(107951, 5.0)\n",
      "(108078, 5.0)\n",
      "(109241, 5.0)\n",
      "(118270, 5.0)\n",
      "(118834, 5.0)\n",
      "(118894, 5.0)\n",
      "(121781, 5.0)\n",
      "(122092, 5.0)\n",
      "(124404, 5.0)\n",
      "(126088, 5.0)\n",
      "(126921, 5.0)\n",
      "(128087, 5.0)\n",
      "(131098, 5.0)\n",
      "(131130, 5.0)\n",
      "(131610, 5.0)\n",
      "(132153, 5.0)\n",
      "(134004, 5.0)\n",
      "(134847, 5.0)\n",
      "(136341, 5.0)\n",
      "(136353, 5.0)\n",
      "(136355, 5.0)\n",
      "(136359, 5.0)\n",
      "(136503, 5.0)\n",
      "(136834, 5.0)\n",
      "(139640, 5.0)\n",
      "(140133, 5.0)\n",
      "(141928, 5.0)\n",
      "(142444, 5.0)\n",
      "(143031, 5.0)\n",
      "(143559, 5.0)\n",
      "(146684, 5.0)\n",
      "(147410, 5.0)\n",
      "(149350, 5.0)\n",
      "(149508, 5.0)\n",
      "(149566, 5.0)\n",
      "(150554, 5.0)\n",
      "(156025, 5.0)\n",
      "(157775, 5.0)\n",
      "(158398, 5.0)\n",
      "(158882, 5.0)\n",
      "(3687, 5.0)\n",
      "(4788, 5.0)\n",
      "(5888, 5.0)\n",
      "(5889, 5.0)\n",
      "(26587, 5.0)\n",
      "(26849, 5.0)\n",
      "(80124, 5.0)\n",
      "(95175, 5.0)\n",
      "(95311, 5.0)\n",
      "(104780, 5.0)\n",
      "(109633, 5.0)\n",
      "(120138, 5.0)\n",
      "(129514, 5.0)\n",
      "(130970, 5.0)\n",
      "(130978, 5.0)\n",
      "(131237, 5.0)\n",
      "(134095, 5.0)\n",
      "(134109, 5.0)\n",
      "(136445, 5.0)\n",
      "(136447, 5.0)\n",
      "(138835, 5.0)\n",
      "(140265, 5.0)\n",
      "(141816, 5.0)\n",
      "(142020, 5.0)\n",
      "(143511, 5.0)\n",
      "(145994, 5.0)\n",
      "(147196, 5.0)\n",
      "(147250, 5.0)\n",
      "(147286, 5.0)\n",
      "(147300, 5.0)\n",
      "(147326, 5.0)\n",
      "(147328, 5.0)\n",
      "(147330, 5.0)\n",
      "(151769, 5.0)\n",
      "(159811, 5.0)\n",
      "(163072, 5.0)\n",
      "(163112, 5.0)\n",
      "(163386, 5.0)\n",
      "(163925, 5.0)\n",
      "(165959, 5.0)\n",
      "(166183, 5.0)\n",
      "(170597, 5.0)\n",
      "(170777, 5.0)\n",
      "(171749, 5.0)\n",
      "(172577, 5.0)\n",
      "(172583, 5.0)\n",
      "(172585, 5.0)\n",
      "(172587, 5.0)\n",
      "(172589, 5.0)\n",
      "(172637, 5.0)\n",
      "(172793, 5.0)\n",
      "(172909, 5.0)\n",
      "(173351, 5.0)\n",
      "(173355, 5.0)\n",
      "(173619, 5.0)\n",
      "(173963, 5.0)\n",
      "(174551, 5.0)\n",
      "(175293, 5.0)\n",
      "(175387, 5.0)\n",
      "(175397, 5.0)\n",
      "(175431, 5.0)\n",
      "(179133, 5.0)\n",
      "(99636, 5.0)\n",
      "(3795, 5.0)\n",
      "(7096, 5.0)\n",
      "(128914, 5.0)\n",
      "(162344, 5.0)\n",
      "(2969, 5.0)\n",
      "(141718, 5.0)\n",
      "(5088, 5.0)\n",
      "(86721, 5.0)\n",
      "(3096, 5.0)\n",
      "(3473, 5.0)\n",
      "(26078, 5.0)\n",
      "(8911, 5.0)\n",
      "(25906, 5.0)\n",
      "(77846, 5.0)\n",
      "(93008, 5.0)\n",
      "(6192, 5.0)\n",
      "(172705, 5.0)\n",
      "(4813, 5.0)\n",
      "(5244, 5.0)\n",
      "(26840, 5.0)\n",
      "(33138, 5.0)\n",
      "(99, 5.0)\n",
      "(148, 5.0)\n",
      "(496, 5.0)\n",
      "(5607, 5.0)\n",
      "(146662, 5.0)\n",
      "(3496, 5.0)\n",
      "(27320, 5.0)\n",
      "(6983, 5.0)\n",
      "(26366, 5.0)\n",
      "(7815, 5.0)\n",
      "(2824, 5.0)\n",
      "(4116, 5.0)\n",
      "(5241, 5.0)\n",
      "(5723, 5.0)\n",
      "(5745, 5.0)\n",
      "(6086, 5.0)\n",
      "(3086, 5.0)\n",
      "(6818, 5.0)\n",
      "(64499, 5.0)\n",
      "(64501, 5.0)\n",
      "(140627, 5.0)\n",
      "(158027, 5.0)\n",
      "(4180, 5.0)\n",
      "(7071, 5.0)\n",
      "(26073, 5.0)\n",
      "(26928, 5.0)\n",
      "(74226, 5.0)\n",
      "(78836, 5.0)\n",
      "(84273, 5.0)\n",
      "(86237, 5.0)\n",
      "(117531, 5.0)\n",
      "(134796, 5.0)\n",
      "(138966, 5.0)\n",
      "(179135, 5.0)\n",
      "(184245, 5.0)\n",
      "(70451, 5.0)\n",
      "(136850, 5.0)\n",
      "(3567, 5.0)\n",
      "(109687, 5.0)\n",
      "(27751, 5.0)\n",
      "(7122, 5.0)\n",
      "(8580, 5.0)\n",
      "(112512, 5.0)\n",
      "(5468, 5.0)\n",
      "(6021, 5.0)\n",
      "(42556, 5.0)\n",
      "(82744, 5.0)\n",
      "(95149, 5.0)\n",
      "(102084, 5.0)\n",
      "(108795, 5.0)\n",
      "(172875, 5.0)\n",
      "(44943, 5.0)\n",
      "(5537, 5.0)\n",
      "(6408, 5.0)\n",
      "(8738, 5.0)\n",
      "(26147, 5.0)\n",
      "(59814, 5.0)\n",
      "(3951, 5.0)\n",
      "(5328, 5.0)\n",
      "(5416, 5.0)\n",
      "(6442, 5.0)\n",
      "(27704, 5.0)\n",
      "(69860, 5.0)\n",
      "(86668, 5.0)\n",
      "(90943, 5.0)\n",
      "(136469, 5.0)\n",
      "(45503, 5.0)\n",
      "(4402, 5.0)\n",
      "(96430, 5.0)\n",
      "(5490, 5.0)\n",
      "(132333, 5.0)\n",
      "(6611, 5.0)\n",
      "(100556, 5.0)\n",
      "(152711, 5.0)\n",
      "(160644, 5.0)\n",
      "(162414, 5.0)\n",
      "(167064, 5.0)\n",
      "(187717, 5.0)\n",
      "(4495, 5.0)\n",
      "(6201, 5.0)\n",
      "(4454, 5.0)\n",
      "(88448, 5.0)\n",
      "(94810, 5.0)\n",
      "(71268, 5.0)\n",
      "(93320, 5.0)\n",
      "(467, 5.0)\n",
      "(876, 5.0)\n",
      "(120130, 5.0)\n",
      "(164367, 5.0)\n",
      "(626, 5.0)\n",
      "(3939, 5.0)\n",
      "(3940, 5.0)\n",
      "(3941, 5.0)\n",
      "(3942, 5.0)\n",
      "(5059, 5.0)\n",
      "(5513, 5.0)\n",
      "(633, 5.0)\n",
      "(3678, 5.0)\n",
      "(4135, 5.0)\n",
      "(40491, 5.0)\n",
      "(3073, 5.0)\n",
      "(27373, 5.0)\n",
      "(136556, 5.0)\n",
      "(2196, 5.0)\n",
      "(33649, 5.0)\n",
      "(113829, 5.0)\n",
      "(114265, 5.0)\n",
      "(124851, 5.0)\n",
      "(25947, 5.0)\n",
      "(495, 5.0)\n",
      "(1310, 5.0)\n",
      "(1349, 5.0)\n",
      "(1759, 5.0)\n",
      "(2512, 5.0)\n",
      "(2972, 5.0)\n",
      "(3303, 5.0)\n",
      "(3531, 5.0)\n",
      "(3637, 5.0)\n",
      "(3792, 5.0)\n",
      "(26169, 5.0)\n",
      "(26401, 5.0)\n",
      "(72142, 5.0)\n",
      "(76091, 5.0)\n",
      "(96832, 5.0)\n",
      "(100906, 5.0)\n",
      "(107771, 5.0)\n",
      "(115727, 5.0)\n",
      "(138632, 5.0)\n"
     ]
    }
   ],
   "source": [
    "def sortSecond(val): \n",
    "    return val[1]\n",
    "lis = list(avg_rating.items())\n",
    "lis.sort(key = sortSecond, reverse = False)\n",
    "for i in range(len(lis)):\n",
    "    if lis[i][1]==5:\n",
    "        print(lis[i])\n"
   ]
  },
  {
   "cell_type": "code",
   "execution_count": null,
   "metadata": {},
   "outputs": [],
   "source": []
  }
 ],
 "metadata": {
  "kernelspec": {
   "display_name": "Python 3",
   "language": "python",
   "name": "python3"
  },
  "language_info": {
   "codemirror_mode": {
    "name": "ipython",
    "version": 3
   },
   "file_extension": ".py",
   "mimetype": "text/x-python",
   "name": "python",
   "nbconvert_exporter": "python",
   "pygments_lexer": "ipython3",
   "version": "3.5.2"
  }
 },
 "nbformat": 4,
 "nbformat_minor": 2
}
